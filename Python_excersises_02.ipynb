{
  "nbformat": 4,
  "nbformat_minor": 0,
  "metadata": {
    "colab": {
      "name": "Python_excersises_02.ipynb",
      "provenance": [],
      "collapsed_sections": [],
      "include_colab_link": true
    },
    "kernelspec": {
      "name": "python3",
      "display_name": "Python 3"
    }
  },
  "cells": [
    {
      "cell_type": "markdown",
      "metadata": {
        "id": "view-in-github",
        "colab_type": "text"
      },
      "source": [
        "<a href=\"https://colab.research.google.com/github/Zafeiriou-Anastasia/Hello-world/blob/main/Python_excersises_02.ipynb\" target=\"_parent\"><img src=\"https://colab.research.google.com/assets/colab-badge.svg\" alt=\"Open In Colab\"/></a>"
      ]
    },
    {
      "cell_type": "markdown",
      "metadata": {
        "id": "tbDpZyaNSh8_"
      },
      "source": [
        "# Tuples (Πλειάδες)"
      ]
    },
    {
      "cell_type": "markdown",
      "metadata": {
        "id": "zQqNzS0qSpI0"
      },
      "source": [
        "Δημιουργείστε μία πλειάδα με αριθμούς της επιλογής σας."
      ]
    },
    {
      "cell_type": "code",
      "metadata": {
        "id": "InTDlgj_SliB"
      },
      "source": [
        "a=(1,4,5,6,10,11)"
      ],
      "execution_count": null,
      "outputs": []
    },
    {
      "cell_type": "markdown",
      "metadata": {
        "id": "sj84uvzkS0ge"
      },
      "source": [
        "Με ένα for δείξτε τα τετράγωνα (τη δύναμη του 2) το κάθε αριθμού της πλειάδας."
      ]
    },
    {
      "cell_type": "code",
      "metadata": {
        "id": "JayBXYwRS8bU",
        "outputId": "7b242fc4-6198-4526-8467-17072022be33",
        "colab": {
          "base_uri": "https://localhost:8080/"
        }
      },
      "source": [
        "a=(1,4,5,6,10,11)\n",
        "for i in a:\n",
        "  print (i**2)"
      ],
      "execution_count": 7,
      "outputs": [
        {
          "output_type": "stream",
          "text": [
            "1\n",
            "16\n",
            "25\n",
            "36\n",
            "100\n",
            "121\n"
          ],
          "name": "stdout"
        }
      ]
    },
    {
      "cell_type": "markdown",
      "metadata": {
        "id": "3vVTTWAkS_SD"
      },
      "source": [
        "# Dictionaries"
      ]
    },
    {
      "cell_type": "markdown",
      "metadata": {
        "id": "-uzX2t4STMg-"
      },
      "source": [
        "Δημιουργείστε ένα dictionary που να περιέχει τα στοιχεία ενός εργαζόμενου (πχ όνομα, επώνυμο, τηλ, μισθός και ότι άλλο θέλετε)"
      ]
    },
    {
      "cell_type": "code",
      "metadata": {
        "id": "DLb0BDnjTJnv",
        "outputId": "3063e129-997f-4f12-b63a-cceaa41f1aba",
        "colab": {
          "base_uri": "https://localhost:8080/"
        }
      },
      "source": [
        "mydictionary = {\"όνομα\":\"Αναστασία\",\"επώνυμο\":\"Ζαφειρίου\",\"τηλέφωνο\":\"6984070322\"}\n",
        "mydictionary"
      ],
      "execution_count": 9,
      "outputs": [
        {
          "output_type": "execute_result",
          "data": {
            "text/plain": [
              "{'επώνυμο': 'Ζαφειρίου', 'τηλέφωνο': '6984070322', 'όνομα': 'Αναστασία'}"
            ]
          },
          "metadata": {
            "tags": []
          },
          "execution_count": 9
        }
      ]
    },
    {
      "cell_type": "markdown",
      "metadata": {
        "id": "f7Wo3hoPTmfW"
      },
      "source": [
        "Στο dictionary που δημιουργείσατε προσθέστε και ένα κλειδί 'supervisor' που να είναι με τη σειρά του ένα ακόμα dictionary με κλειδιά name, tel"
      ]
    },
    {
      "cell_type": "code",
      "metadata": {
        "id": "WStad-QXUDhF",
        "outputId": "5448ff22-3984-4fb1-a5c9-03e59a8a24a5",
        "colab": {
          "base_uri": "https://localhost:8080/"
        }
      },
      "source": [
        "mydictionary = {\"όνομα\":\"Αναστασία\",\"επώνυμο\":\"Ζαφειρίου\",\"τηλέφωνο\":\"6984070322\"}\n",
        "mydictionary2= {\"name\":\"Anastasia\",\"surname\":\"Zafeiriou\",\"tel\":\"6984070322\"}\n",
        "mydictionary[\"supervisor\"]= mydictionary2\n",
        "mydictionary"
      ],
      "execution_count": 13,
      "outputs": [
        {
          "output_type": "execute_result",
          "data": {
            "text/plain": [
              "{'supervisor': {'name': 'Anastasia',\n",
              "  'surname': 'Zafeiriou',\n",
              "  'tel': '6984070322'},\n",
              " 'επώνυμο': 'Ζαφειρίου',\n",
              " 'τηλέφωνο': '6984070322',\n",
              " 'όνομα': 'Αναστασία'}"
            ]
          },
          "metadata": {
            "tags": []
          },
          "execution_count": 13
        }
      ]
    },
    {
      "cell_type": "markdown",
      "metadata": {
        "id": "3JJ_Sh_lUOWX"
      },
      "source": [
        "Στο dictionary που δημιουργείσατε διαγράψτε το κλειδί με το τηλέφωνο."
      ]
    },
    {
      "cell_type": "code",
      "metadata": {
        "id": "mJ2rqeZhUYTJ",
        "outputId": "a4d26869-b307-4f34-e908-d7eee14033cb",
        "colab": {
          "base_uri": "https://localhost:8080/"
        }
      },
      "source": [
        "mydictionary = {\"όνομα\":\"Αναστασία\",\"επώνυμο\":\"Ζαφειρίου\",\"τηλέφωνο\":\"6984070322\"}\n",
        "mydictionary2= {\"name\":\"Anastasia\",\"surname\":\"Zafeiriou\",\"tel\":\"6984070322\"}\n",
        "mydictionary[\"supervisor\"]= mydictionary2\n",
        "del mydictionary[\"τηλέφωνο\"]\n",
        "del mydictionary[\"supervisor\"][\"tel\"]\n",
        "mydictionary"
      ],
      "execution_count": 16,
      "outputs": [
        {
          "output_type": "execute_result",
          "data": {
            "text/plain": [
              "{'supervisor': {'name': 'Anastasia', 'surname': 'Zafeiriou'},\n",
              " 'επώνυμο': 'Ζαφειρίου',\n",
              " 'όνομα': 'Αναστασία'}"
            ]
          },
          "metadata": {
            "tags": []
          },
          "execution_count": 16
        }
      ]
    },
    {
      "cell_type": "markdown",
      "metadata": {
        "id": "1p5uXtt-Ufib"
      },
      "source": [
        "# Functions"
      ]
    },
    {
      "cell_type": "markdown",
      "metadata": {
        "id": "09dhvW5eVJ7I"
      },
      "source": [
        "Δημιουργείστε μία function που να δεχεται παράμετρο έναν αριθμό και να **εμφανίζει** το τετράγωνο του αριθμού αυτού"
      ]
    },
    {
      "cell_type": "code",
      "metadata": {
        "id": "5Z9uzIAxVJLw",
        "outputId": "ad3b5c05-4877-4531-98e1-27b626bd80ea",
        "colab": {
          "base_uri": "https://localhost:8080/"
        }
      },
      "source": [
        "def myfirstfunction(number):\n",
        "  print(f\"Το τετράγωνο του αριθμού {number} είναι ίσο με {number**2}\")\n",
        "myfirstfunction(3)"
      ],
      "execution_count": 17,
      "outputs": [
        {
          "output_type": "stream",
          "text": [
            "Το τετράγωνο του αριθμού 3 είναι ίσο με 9\n"
          ],
          "name": "stdout"
        }
      ]
    },
    {
      "cell_type": "markdown",
      "metadata": {
        "id": "hCSN1wPsVqo5"
      },
      "source": [
        "Δημιουργείστε μία function που να δεχεται παράμετρο έναν αριθμό και να **επιστρέφει** το τετράγωνο του αριθμού αυτού"
      ]
    },
    {
      "cell_type": "code",
      "metadata": {
        "id": "Do-KH2NJV0ue",
        "outputId": "65013221-b324-405b-a5f1-72f09f56691a",
        "colab": {
          "base_uri": "https://localhost:8080/"
        }
      },
      "source": [
        "def mysecondfunction(number):\n",
        "  return number**2\n",
        "\n",
        "print(mysecondfunction(3))  \n",
        "\n",
        "\n"
      ],
      "execution_count": 19,
      "outputs": [
        {
          "output_type": "stream",
          "text": [
            "9\n"
          ],
          "name": "stdout"
        }
      ]
    },
    {
      "cell_type": "markdown",
      "metadata": {
        "id": "0pQDsxxjV2HP"
      },
      "source": [
        "Βάλτε στις παραπάνω Functions προεπιλεγμένη τιμή το 2"
      ]
    },
    {
      "cell_type": "code",
      "metadata": {
        "id": "cAu1oaPspgjz",
        "outputId": "13c0bc10-d359-4efb-f0b2-6b14a5d48094",
        "colab": {
          "base_uri": "https://localhost:8080/"
        }
      },
      "source": [
        "def myfirstfunction(number = 2):\n",
        "  print(f\"Το τετράγωνο του αριθμού {number} είναι ίσο με {number**2}\")\n",
        "myfirstfunction(3)\n",
        "myfirstfunction()\n",
        "\n",
        "def mysecondfunction(number = 2):\n",
        "  return number**2\n",
        "print(mysecondfunction(3))\n",
        "print(mysecondfunction())\n",
        "\n"
      ],
      "execution_count": 20,
      "outputs": [
        {
          "output_type": "stream",
          "text": [
            "Το τετράγωνο του αριθμού 3 είναι ίσο με 9\n",
            "Το τετράγωνο του αριθμού 2 είναι ίσο με 4\n",
            "9\n",
            "4\n"
          ],
          "name": "stdout"
        }
      ]
    }
  ]
}