{
  "nbformat": 4,
  "nbformat_minor": 0,
  "metadata": {
    "colab": {
      "name": "exercise2.ipynb",
      "provenance": [],
      "collapsed_sections": [],
      "authorship_tag": "ABX9TyMctAstD4+Ge/WOMEvZWKsf",
      "include_colab_link": true
    },
    "kernelspec": {
      "name": "python3",
      "display_name": "Python 3"
    },
    "language_info": {
      "name": "python"
    }
  },
  "cells": [
    {
      "cell_type": "markdown",
      "metadata": {
        "id": "view-in-github",
        "colab_type": "text"
      },
      "source": [
        "<a href=\"https://colab.research.google.com/github/Zafeiriou-Anastasia/Hello-world/blob/main/exercise2.ipynb\" target=\"_parent\"><img src=\"https://colab.research.google.com/assets/colab-badge.svg\" alt=\"Open In Colab\"/></a>"
      ]
    },
    {
      "cell_type": "code",
      "metadata": {
        "colab": {
          "base_uri": "https://localhost:8080/"
        },
        "id": "g31iPAmf-u6U",
        "outputId": "0d8ea481-624c-4650-bbaa-bb1d81ccee2f"
      },
      "source": [
        "# Φτιάξτε ένα πρόγραμμα που να ζητάει από το χρήστη μια λέξη (ή φράση) \n",
        "# και να επιστρέφει το σύνολο των γραμμάτων της λέξης χωρίς τα κενά.\n",
        "leksi = input(\"Πληκτρολόγησε την λέξη ή φράση που θέλεις: \")\n",
        "sum=0\n",
        "for i in leksi :\n",
        "  if i != \" \":\n",
        "    sum +=1\n",
        "print(sum)\n",
        "\n",
        "\n",
        "\n",
        "\n"
      ],
      "execution_count": 22,
      "outputs": [
        {
          "output_type": "stream",
          "text": [
            "Πληκτρολόγησε την λέξη ή φράση που θέλεις: ελάφι\n",
            "5\n"
          ],
          "name": "stdout"
        }
      ]
    },
    {
      "cell_type": "code",
      "metadata": {
        "colab": {
          "base_uri": "https://localhost:8080/"
        },
        "id": "8iPMVmHYOAzT",
        "outputId": "64fc0966-3e0e-473e-e61f-465e3818e054"
      },
      "source": [
        "# Στη συνέχεια τροποποιήστε το πρόγραμμα (με την if __name__) με τέτοιο τρόπο που \n",
        "#να μπορεί κάποιος να χρησιμοποιήσει τις το πρόγραμμά σας σαν module. Να μπορεί δηλαδή να κάνει import και\n",
        "#να έχει στη διάθεσή του τη συνάρτηση που επιστρέφει το πλήθος των γραμμάτων μιας λέξης (ή φράσης)\n",
        "def plithos(leksi_frasi):\n",
        "  sum=0\n",
        "  for i in leksi_frasi :\n",
        "    if i != \" \":\n",
        "      sum +=1\n",
        "  return sum\n",
        "\n",
        "if __name__==\"__main__\":\n",
        "  print(plithos(\"me lene Anastasia\"))\n",
        "\n"
      ],
      "execution_count": 25,
      "outputs": [
        {
          "output_type": "stream",
          "text": [
            "15\n"
          ],
          "name": "stdout"
        }
      ]
    },
    {
      "cell_type": "code",
      "metadata": {
        "colab": {
          "base_uri": "https://localhost:8080/"
        },
        "id": "V91ohpweN5wS",
        "outputId": "80f84369-d37e-42e9-8f41-ea1e872d5992"
      },
      "source": [
        "# Τέλος προσθέστε και μία συνάρτηση που να επιστρέφει μόνο το πρώτο και τελευταίο \n",
        "#γράμμα του αλφαριθμητικού που θα δώσουμε σαν παράμετρο, για να μπορεί να τη χρησιμοποιήσει \n",
        "#όποιος κάνει import το module.\n",
        "def grammata(leksi_frasi):\n",
        "  first_letter = leksi_frasi[0]\n",
        "  last_letter = leksi_frasi[-1]\n",
        "  return first_letter, last_letter\n",
        "\n",
        "\n",
        "if __name__ == \"__main__\":\n",
        "  print(grammata(\"me lene Anastasia\"))"
      ],
      "execution_count": 26,
      "outputs": [
        {
          "output_type": "stream",
          "text": [
            "('m', 'a')\n"
          ],
          "name": "stdout"
        }
      ]
    },
    {
      "cell_type": "markdown",
      "metadata": {
        "id": "vm7GZnebFv_6"
      },
      "source": [
        ""
      ]
    }
  ]
}